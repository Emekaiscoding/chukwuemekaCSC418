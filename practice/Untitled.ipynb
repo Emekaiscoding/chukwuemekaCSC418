{
 "cells": [
  {
   "cell_type": "code",
   "execution_count": 1,
   "id": "17cf40e6-6c8c-48bc-b3b3-6fbca5170874",
   "metadata": {},
   "outputs": [],
   "source": [
    "import cv2 as cv\n",
    "import numpy as np"
   ]
  },
  {
   "cell_type": "code",
   "execution_count": 9,
   "id": "51f6b11e-7ac4-4386-ad52-4e0fc06e6241",
   "metadata": {},
   "outputs": [],
   "source": [
    "img = cv.imread(\"../images/Sola-Oni-820x400-1-600x293.jpg\")\n",
    "\n",
    "cv.imshow(\"Sola Oni\", img)\n",
    "cv.waitKey(0)\n",
    "cv.destroyAllWindows()"
   ]
  },
  {
   "cell_type": "code",
   "execution_count": null,
   "id": "2ba09e31-5322-4ae5-a824-cba61f976b67",
   "metadata": {},
   "outputs": [],
   "source": []
  }
 ],
 "metadata": {
  "kernelspec": {
   "display_name": "Python [conda env:base] *",
   "language": "python",
   "name": "conda-base-py"
  },
  "language_info": {
   "codemirror_mode": {
    "name": "ipython",
    "version": 3
   },
   "file_extension": ".py",
   "mimetype": "text/x-python",
   "name": "python",
   "nbconvert_exporter": "python",
   "pygments_lexer": "ipython3",
   "version": "3.11.5"
  }
 },
 "nbformat": 4,
 "nbformat_minor": 5
}
