{
 "cells": [
  {
   "cell_type": "code",
   "execution_count": 1,
   "id": "bdf248f9-8a96-4972-9f5a-123fb7552b86",
   "metadata": {},
   "outputs": [],
   "source": [
    "import cv2\n",
    "\n",
    "img_1 = cv2.imread(\"../images/Dr.-Onaga-Picture-200x300@2x.jpg\")\n",
    "img_2 = cv2.imread(\"../images/NNEKA.png\")\n",
    "\n",
    "img_1 = cv2.resize(img_1, (500,400))\n",
    "img_2 = cv2.resize(img_2, (500,400))\n",
    "\n",
    "add_image = cv2.addWeighted(img_1, 0.8, img_2, 0.6,0)\n",
    "\n",
    "cv2.imshow(\"weighted image\", add_image)\n",
    "\n",
    "if cv2.waitKey(0) & 0xff == 27:\n",
    "    cv2.destroyAllWindows()"
   ]
  },
  {
   "cell_type": "code",
   "execution_count": null,
   "id": "def260cb-8d3f-42b5-8466-ebe0d2046a2d",
   "metadata": {},
   "outputs": [],
   "source": []
  }
 ],
 "metadata": {
  "kernelspec": {
   "display_name": "Python [conda env:base] *",
   "language": "python",
   "name": "conda-base-py"
  },
  "language_info": {
   "codemirror_mode": {
    "name": "ipython",
    "version": 3
   },
   "file_extension": ".py",
   "mimetype": "text/x-python",
   "name": "python",
   "nbconvert_exporter": "python",
   "pygments_lexer": "ipython3",
   "version": "3.11.5"
  }
 },
 "nbformat": 4,
 "nbformat_minor": 5
}
