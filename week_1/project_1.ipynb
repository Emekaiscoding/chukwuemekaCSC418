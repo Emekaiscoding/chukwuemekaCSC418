{
 "cells": [
  {
   "cell_type": "code",
   "execution_count": 1,
   "id": "ac6e0307-d8c6-4981-9fdf-7df9f15197af",
   "metadata": {},
   "outputs": [],
   "source": [
    "#!pip install opencv-python"
   ]
  },
  {
   "cell_type": "code",
   "execution_count": 2,
   "id": "4649071e-b7e5-4106-9511-6fe93f87681f",
   "metadata": {},
   "outputs": [],
   "source": [
    "import cv2"
   ]
  },
  {
   "cell_type": "code",
   "execution_count": 3,
   "id": "ba78a122-31ef-4b91-b7b7-752004e7b778",
   "metadata": {},
   "outputs": [],
   "source": [
    "# import cv2\n",
    "\n",
    "# path = \"./images/dr-peter-bamkole-pan-atlantic-university-lagos-nigeria-300x240@2x.jpg\"\n",
    "\n",
    "# img = cv2.imread(path)\n",
    "\n",
    "# if img is None:\n",
    "#     print(\"Error: Image not found. Check the file path.\")\n",
    "# else:\n",
    "#     img_resized = cv2.resize(img, (600, 400))\n",
    "#     window_name = \"Peter Bamkole\"\n",
    "#     cv2.imshow(window_name, img)\n",
    "#     cv2.waitKey(0)\n",
    "#     cv2.destroyAllWindows()\n"
   ]
  },
  {
   "cell_type": "markdown",
   "id": "4b51da14-cb33-4ee6-b716-2ce618144f73",
   "metadata": {},
   "source": [
    "## Project 1"
   ]
  },
  {
   "cell_type": "code",
   "execution_count": 5,
   "id": "20bf19ce-416d-4f26-9199-a7556f49876d",
   "metadata": {},
   "outputs": [],
   "source": [
    "password_dict = {\n",
    "                \"enase okonedo\": { \"name\": \"Enase Okonedo\", \"password\": \"enaseoko\",\"image\": \"enase-okonedo-vice-chancellor-pan-atlantic-university-268x300@2x.jpg\"}, \n",
    "               \"chris ogbechie\": { \"name\": \"Chris Ogbechie\", \"password\": \"chrisogbe\",\"image\": \"Prof-Chris-Ogbechie-720x400-1-600x333.jpg\"},\n",
    "               \"donatus ogbuike\": { \"name\": \"Donatus Ogbuike\", \"password\": \"donogbu\",\"image\": \"pau-bursar.png\"},\n",
    "               \"ikechukwu obiaya\": { \"name\": \"Ikechukwu Obiaya\", \"password\": \"ikeobi\",\"image\": \"Dr-obiaya-245x300@2x.jpg\"},\n",
    "}"
   ]
  },
  {
   "cell_type": "code",
   "execution_count": null,
   "id": "b285cae1-464f-42bb-b12b-0eb1bbc40c81",
   "metadata": {},
   "outputs": [],
   "source": []
  },
  {
   "cell_type": "code",
   "execution_count": 6,
   "id": "3c902030-3c6b-46a5-b267-2eed86c27f2e",
   "metadata": {},
   "outputs": [
    {
     "ename": "SyntaxError",
     "evalue": "invalid syntax. Maybe you meant '==' or ':=' instead of '='? (2427785093.py, line 5)",
     "output_type": "error",
     "traceback": [
      "\u001b[1;36m  Cell \u001b[1;32mIn[6], line 5\u001b[1;36m\u001b[0m\n\u001b[1;33m    if person = your_name:\u001b[0m\n\u001b[1;37m       ^\u001b[0m\n\u001b[1;31mSyntaxError\u001b[0m\u001b[1;31m:\u001b[0m invalid syntax. Maybe you meant '==' or ':=' instead of '='?\n"
     ]
    }
   ],
   "source": [
    "# your_name = input(\"Enter your name: \")\n",
    "# your_password = input(\"Enter your password: \").lower()\n",
    "\n",
    "# for person in password_dict:\n",
    "#     if person == your_name:\n",
    "#         img_resized = cv2.resize(img, (600, 400))\n",
    "#         window_name = f\"{your_name}\"\n",
    "#         window_name = window_name.upper()\n",
    "#         cv2.imshow(window_name, img)\n",
    "#         cv2.waitKey(0)\n",
    "#         cv2.destroyAllWindows()"
   ]
  },
  {
   "cell_type": "code",
   "execution_count": 8,
   "id": "d54f6030-5330-4550-bcbe-0683fc52f384",
   "metadata": {},
   "outputs": [
    {
     "name": "stdin",
     "output_type": "stream",
     "text": [
      "Enter your name:  enase okonedo\n",
      "Enter your password:  enaseoko\n"
     ]
    }
   ],
   "source": [
    "your_name = input(\"Enter your name: \").lower()  # Convert to lowercase for consistency\n",
    "your_password = input(\"Enter your password: \")\n",
    "\n",
    "# Check if the name exists in the dictionary\n",
    "if your_name in password_dict:\n",
    "    # Verify password\n",
    "    if password_dict[your_name][\"password\"] == your_password:\n",
    "        image_path = f\"./images/{password_dict[your_name]['image']}\"  # Assuming images are in './images/' directory\n",
    "        img = cv2.imread(image_path)\n",
    "        \n",
    "        if img is not None:  # Ensure image is loaded successfully\n",
    "            img_resized = cv2.resize(img, (600, 400))  # Resize the image\n",
    "            window_name = password_dict[your_name][\"name\"].upper()  # Convert name to uppercase for display\n",
    "            \n",
    "            cv2.imshow(window_name, img_resized)  \n",
    "            cv2.waitKey(0)\n",
    "            cv2.destroyAllWindows()\n",
    "        else:\n",
    "            print(f\"Error: Image '{image_path}' not found!\")\n",
    "    else:\n",
    "        print(\"Incorrect password! Please try again.\")\n",
    "else:\n",
    "    print(\"Name not found in the system.\")"
   ]
  },
  {
   "cell_type": "code",
   "execution_count": null,
   "id": "0606c530-d385-408f-8a12-b87be289edef",
   "metadata": {},
   "outputs": [],
   "source": []
  }
 ],
 "metadata": {
  "kernelspec": {
   "display_name": "Python [conda env:base] *",
   "language": "python",
   "name": "conda-base-py"
  },
  "language_info": {
   "codemirror_mode": {
    "name": "ipython",
    "version": 3
   },
   "file_extension": ".py",
   "mimetype": "text/x-python",
   "name": "python",
   "nbconvert_exporter": "python",
   "pygments_lexer": "ipython3",
   "version": "3.11.5"
  }
 },
 "nbformat": 4,
 "nbformat_minor": 5
}
