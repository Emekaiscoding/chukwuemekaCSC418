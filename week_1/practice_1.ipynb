{
 "cells": [
  {
   "cell_type": "code",
   "execution_count": 10,
   "id": "7f535240-c3a7-4dfd-8765-eeba58566e4e",
   "metadata": {},
   "outputs": [],
   "source": [
    "import cv2\n",
    "\n",
    "path = \"./images/dr-peter-bamkole-pan-atlantic-university-lagos-nigeria-300x240@2x.jpg\"\n",
    "\n",
    "img = cv2.imread(path)\n",
    "\n",
    "if img is None:\n",
    "    print(\"Error: Image not found. Check the file path.\")\n",
    "else:\n",
    "    img_resized = cv2.resize(img, (600, 400))\n",
    "    window_name = \"Peter Bamkole\"\n",
    "    cv2.imshow(window_name, img)\n",
    "    cv2.waitKey(0)\n",
    "    cv2.destroyAllWindows()\n"
   ]
  },
  {
   "cell_type": "code",
   "execution_count": 12,
   "id": "7d431928-481b-4a5b-81e8-b9452c51cc77",
   "metadata": {},
   "outputs": [],
   "source": [
    "\n",
    "path = \"./images/dr-peter-bamkole-pan-atlantic-university-lagos-nigeria-300x240@2x.jpg\"\n",
    "\n",
    "img = cv2.imread(path, 0)\n",
    "\n",
    "if img is None:\n",
    "    print(\"Error: Image not found. Check the file path.\")\n",
    "else:\n",
    "    img_resized = cv2.resize(img, (600, 400))\n",
    "    window_name = \"Peter Bamkole\"\n",
    "    cv2.imshow(window_name, img)\n",
    "    cv2.waitKey(0)\n",
    "    cv2.destroyAllWindows()\n"
   ]
  },
  {
   "cell_type": "code",
   "execution_count": 14,
   "id": "c3e56c89-ddd4-4653-ba0c-d71dc588d72f",
   "metadata": {},
   "outputs": [],
   "source": [
    "import os\n",
    "\n",
    "img_path = \"./images/dr-peter-bamkole-pan-atlantic-university-lagos-nigeria-300x240@2x.jpg\"\n",
    "\n",
    "directory = \"./images\"\n",
    "\n",
    "img = cv2.imread(path, 0)\n",
    "\n",
    "os.chdir(directory)\n",
    "\n",
    "print(\"Befor saving image:\")\n",
    "print(os.listdir(directory))\n",
    "\n",
    "filename = \"dr-peter-bamkole-pan-atlantic-university-lagos-nigeria-300x240@2x.jpg\"\n",
    "\n",
    "cv2.imwrite(filemame, img)\n",
    "\n",
    "print(\"After saving image:\")\n",
    "print(os.listdir(directory))\n",
    "\n",
    "print(\"successfully saved\")"
   ]
  },
  {
   "cell_type": "code",
   "execution_count": null,
   "id": "2fc80fb3-5c24-43a5-a465-88ebc9fde374",
   "metadata": {},
   "outputs": [],
   "source": []
  }
 ],
 "metadata": {
  "kernelspec": {
   "display_name": "Python [conda env:base] *",
   "language": "python",
   "name": "conda-base-py"
  },
  "language_info": {
   "codemirror_mode": {
    "name": "ipython",
    "version": 3
   },
   "file_extension": ".py",
   "mimetype": "text/x-python",
   "name": "python",
   "nbconvert_exporter": "python",
   "pygments_lexer": "ipython3",
   "version": "3.11.5"
  }
 },
 "nbformat": 4,
 "nbformat_minor": 5
}
